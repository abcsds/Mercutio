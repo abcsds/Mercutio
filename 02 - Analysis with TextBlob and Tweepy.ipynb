{
 "cells": [
  {
   "cell_type": "markdown",
   "metadata": {},
   "source": [
    "# Twitter sentiment analysis with libraries\n",
    "\n",
    "For this study two libraries will be required: `tweepy` to access the twitter stream, and `TextBlob` for text analysis. These two libraries need to be installed for this notebook to work."
   ]
  },
  {
   "cell_type": "code",
   "execution_count": 1,
   "metadata": {
    "collapsed": true
   },
   "outputs": [],
   "source": [
    "import tweepy as ty\n",
    "from textblob import TextBlob"
   ]
  },
  {
   "cell_type": "markdown",
   "metadata": {},
   "source": [
    "## Import keys\n",
    "to access to the twitter stream one must register as a twitter developer. This way API keys are created for developer use. For more info visit the twitter developer documentation, or the [apps site](https://apps.twitter.com/)."
   ]
  },
  {
   "cell_type": "code",
   "execution_count": 2,
   "metadata": {
    "collapsed": true
   },
   "outputs": [],
   "source": [
    "import myKeys\n",
    "\n",
    "api_key = myKeys.api_key\n",
    "api_secret = myKeys.api_secret\n",
    "access_token_key = myKeys.access_token_key\n",
    "access_token_secret = myKeys.access_token_secret"
   ]
  },
  {
   "cell_type": "markdown",
   "metadata": {},
   "source": [
    "## Set tweepy"
   ]
  },
  {
   "cell_type": "code",
   "execution_count": 3,
   "metadata": {
    "collapsed": false
   },
   "outputs": [],
   "source": [
    "auth = ty.OAuthHandler(api_key, api_secret)\n",
    "auth.set_access_token(access_token_key, access_token_secret)\n",
    "\n",
    "api = ty.API(auth)"
   ]
  },
  {
   "cell_type": "markdown",
   "metadata": {},
   "source": [
    "## Read home tweets\n",
    "This example will download my home timeline tweets and print each one of their texts to the console."
   ]
  },
  {
   "cell_type": "code",
   "execution_count": 4,
   "metadata": {
    "collapsed": false
   },
   "outputs": [
    {
     "name": "stdout",
     "output_type": "stream",
     "text": [
      "RT @lifehacker: Google just made it easier to plan your next vacation from your mobile phone: https://t.co/HniTaKAZWX https://t.co/oNKvRGrm…\n",
      "#ToneJS A Web Audio framework for making interactive music in the browser https://t.co/WkxT7UHNxG\n",
      "Woow Chrome music lab https://t.co/NlKcBTwHkB\n",
      "RT @Dutchstartupjob: Rockstar #dev, listen up! #DSJ curates 25 irresistible offers at #Dutch #Startups. Apply now https://t.co/ixxZlMzFWx h…\n",
      "Turns out #GitHub renders #IPythonNotebooks https://t.co/JUaqFteAMB\n",
      "&lt;3\n",
      "Lleva el #CivicHacking a tu escuela: https://t.co/cgHUXVeWCb\n",
      "Los 10 mandamientos del Open Data : https://t.co/eJqYGQd97z\n",
      "RT @daniel_verdin: En una platica acerca de datos abiertos, gracias @HacklabTepache  #OpenDataDay #ODD16 #ODDLatam #ComunidadCodeando\n",
      "RT @IsoyIngrid: Si el Box estuviera por internet #NoTiresLaToalla @IngenieroDice https://t.co/1f84qSUV8I\n",
      "RT @mextropoli: @PechaKuchaCDMX en el @ArteAlameda https://t.co/72PfVf489o\n",
      "RT @idatosabiertos: Amazing global collaboration happening under #ODD16 #opendataday.\n",
      "RT @HacklabTepache: #OpenDataDay empezamos https://t.co/DseX0QvXsc\n",
      "Pizza for hackers #ODD16 #ComunidadCodeando @ Tepache Hacklab https://t.co/MGImblAxsr\n",
      "RT @AngelMalvada: Quieres ir al Open Data Day? Hay uno cerca de ti  https://t.co/JM46T3SPFh\n",
      "RT @SHCP_mx: Sigue el Rally del #ODD de @TPresupuestaria usa el hashtag #DatosEnLaCalle https://t.co/PgSnGIz5pe\n",
      "RT @socialtic: Hoy Fiesta Datera! Estamos listxs para celebrar juntxs El #OpenDataDay: talleres, retos, datos y diversión #ODD16 https://t.…\n",
      "RT @webfoundation: Happy #OpenDataDay! Good luck to everyone hosting events, hackathons and discussions. Share with us how you're celebrati…\n",
      "RT @CodeandoMexico: Mañana es día mundial de datos abiertos, y hay un evento cerca de ti. En estas ciudades trabajaremos con datos: https:/…\n",
      "RT @codeorg: Artwork changed into different iconic styles using convolutional neural networks https://t.co/jr1olYt1NY https://t.co/zPqLUVoA…\n",
      "RT @LindaRegber: The story of the monk who had fun with plants and statistics https://t.co/IM8WAPJuiK https://t.co/yieQD32v5o\n"
     ]
    }
   ],
   "source": [
    "my_tweets = api.user_timeline()\n",
    "for tweet in my_tweets:\n",
    "    print tweet.text"
   ]
  },
  {
   "cell_type": "markdown",
   "metadata": {},
   "source": [
    "## Analysing with TextBlob\n",
    "This example will read every sentence and extact its sentiment polarity. You need to have the NLTK textblob corpus. Download it by running `python -m textblob.download_corpora` on this folder."
   ]
  },
  {
   "cell_type": "code",
   "execution_count": 6,
   "metadata": {
    "collapsed": false
   },
   "outputs": [],
   "source": [
    "text = []\n",
    "for tweet in my_tweets:\n",
    "    text.append(tweet.text)\n",
    "text = '. '.join(text)\n",
    "\n",
    "blob = TextBlob(text)\n",
    "# print blob.tags"
   ]
  },
  {
   "cell_type": "code",
   "execution_count": 7,
   "metadata": {
    "collapsed": false
   },
   "outputs": [
    {
     "name": "stdout",
     "output_type": "stream",
     "text": [
      "[u'rt', u'@ lifehacker', u'google', u'mobile phone', u'//t.co/hnitakazwx https', u'tonejs', u'web audio', u'interactive music', u'browser https', u'woow chrome', u'music lab https', u'rt', u'dutchstartupjob', u'rockstar', u'# dev', u'dsj', u'dutch', u'startups', u'apply', u'//t.co/ixxzlmzfwx h\\u2026', u'turns', u'github', u'renders #', u'ipythonnotebooks', u'lleva', u'el #', u'civichacking', u'tu escuela', u'los', u'mandamientos del open', u'data', u'rt', u'@ daniel_verdin', u'en', u'una platica acerca', u'datos abiertos', u'gracias @', u'hacklabtepache', u'opendataday', u'odd16', u'oddlatam', u'comunidadcodeando', u'rt', u'isoyingrid', u'si', u'el box estuviera por internet #', u'notireslatoalla', u'ingenierodice', u'rt', u'@ mextropoli', u'pechakuchacdmx', u'el @', u'artealameda', u'rt', u'@ idatosabiertos', u'amazing', u'global collaboration', u'odd16', u'# opendataday..', u'rt', u'hacklabtepache', u'opendataday', u'empezamos https', u'pizza', u'hackers #', u'odd16', u'comunidadcodeando', u'tepache hacklab', u'rt', u'angelmalvada', u'quieres', u'data', u'hay', u'uno cerca', u'ti https', u'rt', u'shcp_mx', u'sigue', u'rally', u'del #', u'odd', u'tpresupuestaria', u'usa el hashtag #', u'datosenlacalle', u'rt', u'@ socialtic', u'hoy fiesta datera', u'estamos', u'listxs para celebrar juntxs', u'el', u'opendataday', u'datos y diversi\\xf3n #', u'odd16', u'rt', u'@ webfoundation', u'happy', u'opendataday', u'good luck', u'share', u\"'re celebrati\\u2026\", u'rt', u'codeandomexico', u'ma\\xf1ana', u'es d\\xeda mundial', u'datos abiertos', u'y hay un evento cerca', u'en', u'estas ciudades trabajaremos', u'con datos', u'rt', u'@ codeorg', u'artwork', u'different iconic styles', u'convolutional neural networks https', u'//t.co/jr1olyt1ny https', u'rt', u'lindaregber', u'statistics https', u'//t.co/im8wapjuik https']\n"
     ]
    }
   ],
   "source": [
    "print blob.noun_phrases"
   ]
  },
  {
   "cell_type": "code",
   "execution_count": 8,
   "metadata": {
    "collapsed": false
   },
   "outputs": [
    {
     "name": "stdout",
     "output_type": "stream",
     "text": [
      "RT @lifehacker: Google just made it easier to plan your next vacation from your mobile phone: https://t.co/HniTaKAZWX https://t.co/oNKvRGrm….    ---    0.0\n",
      "#ToneJS A Web Audio framework for making interactive music in the browser https://t.co/WkxT7UHNxG.    ---    0.0\n",
      "Woow Chrome music lab https://t.co/NlKcBTwHkB.    ---    0.0\n",
      "RT @Dutchstartupjob: Rockstar #dev, listen up!    ---    0.0\n",
      "#DSJ curates 25 irresistible offers at #Dutch #Startups.    ---    0.1\n",
      "Apply now https://t.co/ixxZlMzFWx h….    ---    0.0\n",
      "Turns out #GitHub renders #IPythonNotebooks https://t.co/JUaqFteAMB\n",
      "&lt;3.    ---    0.0\n",
      "Lleva el #CivicHacking a tu escuela: https://t.co/cgHUXVeWCb.    ---    0.0\n",
      "Los 10 mandamientos del Open Data : https://t.co/eJqYGQd97z.    ---    0.0\n",
      "RT @daniel_verdin: En una platica acerca de datos abiertos, gracias @HacklabTepache  #OpenDataDay #ODD16 #ODDLatam #ComunidadCodeando.    ---    0.0\n",
      "RT @IsoyIngrid: Si el Box estuviera por internet #NoTiresLaToalla @IngenieroDice https://t.co/1f84qSUV8I.    ---    0.0\n",
      "RT @mextropoli: @PechaKuchaCDMX en el @ArteAlameda https://t.co/72PfVf489o.    ---    0.0\n",
      "RT @idatosabiertos: Amazing global collaboration happening under #ODD16 #opendataday.. RT @HacklabTepache: #OpenDataDay empezamos https://t.co/DseX0QvXsc.    ---    0.3\n",
      "Pizza for hackers #ODD16 #ComunidadCodeando @ Tepache Hacklab https://t.co/MGImblAxsr.    ---    0.0\n",
      "RT @AngelMalvada: Quieres ir al Open Data Day?    ---    0.0\n",
      "Hay uno cerca de ti  https://t.co/JM46T3SPFh.    ---    0.0\n",
      "RT @SHCP_mx: Sigue el Rally del #ODD de @TPresupuestaria usa el hashtag #DatosEnLaCalle https://t.co/PgSnGIz5pe.    ---    -0.166666666667\n",
      "RT @socialtic: Hoy Fiesta Datera!    ---    0.0\n",
      "Estamos listxs para celebrar juntxs El #OpenDataDay: talleres, retos, datos y diversión #ODD16 https://t.….    ---    0.0\n",
      "RT @webfoundation: Happy #OpenDataDay!    ---    1.0\n",
      "Good luck to everyone hosting events, hackathons and discussions.    ---    0.7\n",
      "Share with us how you're celebrati….    ---    0.0\n",
      "RT @CodeandoMexico: Mañana es día mundial de datos abiertos, y hay un evento cerca de ti.    ---    0.0\n",
      "En estas ciudades trabajaremos con datos: https:/….    ---    0.0\n",
      "RT @codeorg: Artwork changed into different iconic styles using convolutional neural networks https://t.co/jr1olYt1NY https://t.co/zPqLUVoA….    ---    0.25\n",
      "RT @LindaRegber: The story of the monk who had fun with plants and statistics https://t.co/IM8WAPJuiK https://t.co/yieQD32v5o    ---    0.3\n"
     ]
    }
   ],
   "source": [
    "for sentence in blob.sentences:\n",
    "    print sentence, \"   ---   \", sentence.sentiment.polarity"
   ]
  }
 ],
 "metadata": {
  "kernelspec": {
   "display_name": "Python 2",
   "language": "python",
   "name": "python2"
  },
  "language_info": {
   "codemirror_mode": {
    "name": "ipython",
    "version": 2
   },
   "file_extension": ".py",
   "mimetype": "text/x-python",
   "name": "python",
   "nbconvert_exporter": "python",
   "pygments_lexer": "ipython2",
   "version": "2.7.11"
  }
 },
 "nbformat": 4,
 "nbformat_minor": 0
}
